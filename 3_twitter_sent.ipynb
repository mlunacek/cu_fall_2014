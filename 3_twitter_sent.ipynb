{
 "metadata": {
  "name": "",
  "signature": "sha256:3a96e660a53c3fc956b2ea22b2c9b9d46d7d63f196c14fa7eedf265c92b7445c"
 },
 "nbformat": 3,
 "nbformat_minor": 0,
 "worksheets": [
  {
   "cells": [
    {
     "cell_type": "heading",
     "level": 1,
     "metadata": {},
     "source": [
      "Twitter Sentiment"
     ]
    },
    {
     "cell_type": "markdown",
     "metadata": {},
     "source": [
      "AFINN is a list of English words rated for valence with an integer\n",
      "between minus five (negative) and plus five (positive)."
     ]
    },
    {
     "cell_type": "code",
     "collapsed": false,
     "input": [
      "import os\n",
      "import pandas as pd\n",
      "\n",
      "sent = pd.read_table(os.path.join('data','AFINN-111.txt'), \n",
      "              sep='\\t',\n",
      "              names=['word','value'])\n",
      "\n",
      "sent.head()"
     ],
     "language": "python",
     "metadata": {},
     "outputs": [
      {
       "html": [
        "<div style=\"max-height:1000px;max-width:1500px;overflow:auto;\">\n",
        "<table border=\"1\" class=\"dataframe\">\n",
        "  <thead>\n",
        "    <tr style=\"text-align: right;\">\n",
        "      <th></th>\n",
        "      <th>word</th>\n",
        "      <th>value</th>\n",
        "    </tr>\n",
        "  </thead>\n",
        "  <tbody>\n",
        "    <tr>\n",
        "      <th>0</th>\n",
        "      <td>   abandon</td>\n",
        "      <td>-2</td>\n",
        "    </tr>\n",
        "    <tr>\n",
        "      <th>1</th>\n",
        "      <td> abandoned</td>\n",
        "      <td>-2</td>\n",
        "    </tr>\n",
        "    <tr>\n",
        "      <th>2</th>\n",
        "      <td>  abandons</td>\n",
        "      <td>-2</td>\n",
        "    </tr>\n",
        "    <tr>\n",
        "      <th>3</th>\n",
        "      <td>  abducted</td>\n",
        "      <td>-2</td>\n",
        "    </tr>\n",
        "    <tr>\n",
        "      <th>4</th>\n",
        "      <td> abduction</td>\n",
        "      <td>-2</td>\n",
        "    </tr>\n",
        "  </tbody>\n",
        "</table>\n",
        "</div>"
       ],
       "metadata": {},
       "output_type": "pyout",
       "prompt_number": 1,
       "text": [
        "        word  value\n",
        "0    abandon     -2\n",
        "1  abandoned     -2\n",
        "2   abandons     -2\n",
        "3   abducted     -2\n",
        "4  abduction     -2"
       ]
      }
     ],
     "prompt_number": 1
    },
    {
     "cell_type": "markdown",
     "metadata": {},
     "source": [
      "What do these values look like?"
     ]
    },
    {
     "cell_type": "code",
     "collapsed": false,
     "input": [
      "%matplotlib inline\n",
      "import matplotlib.pyplot as plt\n",
      "\n",
      "plt.hist(sent['value'].values)\n",
      "plt.show()"
     ],
     "language": "python",
     "metadata": {},
     "outputs": [
      {
       "metadata": {},
       "output_type": "display_data",
       "png": "[encoded data removed]",
       "text": [
        "<matplotlib.figure.Figure at 0x107d40810>"
       ]
      }
     ],
     "prompt_number": 2
    },
    {
     "cell_type": "heading",
     "level": 2,
     "metadata": {},
     "source": [
      "Twitter data"
     ]
    },
    {
     "cell_type": "markdown",
     "metadata": {},
     "source": [
      "From before..."
     ]
    },
    {
     "cell_type": "code",
     "collapsed": false,
     "input": [
      "import re\n",
      "import json\n",
      "\n",
      "def load_twitter(tweet_file):\n",
      "    text_data = []\n",
      "    for line in tweet_file:\n",
      "        try:\n",
      "            data = json.loads(line)\n",
      "            text_data.append(data['text'])\n",
      "        except:\n",
      "            pass\n",
      "    return text_data\n",
      "\n",
      "def word_count(data):\n",
      "    words = re.findall(r'[a-z0-9]+', ''.join(data))\n",
      "\n",
      "    # Filter\n",
      "    long_words = filter(lambda x: len(x)>2, words)\n",
      "        \n",
      "    # Count\n",
      "    d = dict()\n",
      "    for w in long_words:\n",
      "        d[w] = d.get(w,0) + 1\n",
      "    \n",
      "    return d"
     ],
     "language": "python",
     "metadata": {},
     "outputs": [],
     "prompt_number": 8
    },
    {
     "cell_type": "code",
     "collapsed": false,
     "input": [
      "data = load_twitter(open(os.path.join('data', 'output.txt')))\n",
      "freq = word_count(data)\n",
      "print(len(freq))"
     ],
     "language": "python",
     "metadata": {},
     "outputs": [
      {
       "output_type": "stream",
       "stream": "stdout",
       "text": [
        "24345\n"
       ]
      }
     ],
     "prompt_number": 18
    },
    {
     "cell_type": "heading",
     "level": 2,
     "metadata": {},
     "source": [
      "How can we associate a `sentiment` for each tweet?"
     ]
    },
    {
     "cell_type": "code",
     "collapsed": false,
     "input": [
      "s = sent.set_index('word')\n",
      "s.head()"
     ],
     "language": "python",
     "metadata": {},
     "outputs": [
      {
       "html": [
        "<div style=\"max-height:1000px;max-width:1500px;overflow:auto;\">\n",
        "<table border=\"1\" class=\"dataframe\">\n",
        "  <thead>\n",
        "    <tr style=\"text-align: right;\">\n",
        "      <th></th>\n",
        "      <th>value</th>\n",
        "    </tr>\n",
        "    <tr>\n",
        "      <th>word</th>\n",
        "      <th></th>\n",
        "    </tr>\n",
        "  </thead>\n",
        "  <tbody>\n",
        "    <tr>\n",
        "      <th>abandon</th>\n",
        "      <td>-2</td>\n",
        "    </tr>\n",
        "    <tr>\n",
        "      <th>abandoned</th>\n",
        "      <td>-2</td>\n",
        "    </tr>\n",
        "    <tr>\n",
        "      <th>abandons</th>\n",
        "      <td>-2</td>\n",
        "    </tr>\n",
        "    <tr>\n",
        "      <th>abducted</th>\n",
        "      <td>-2</td>\n",
        "    </tr>\n",
        "    <tr>\n",
        "      <th>abduction</th>\n",
        "      <td>-2</td>\n",
        "    </tr>\n",
        "  </tbody>\n",
        "</table>\n",
        "</div>"
       ],
       "metadata": {},
       "output_type": "pyout",
       "prompt_number": 10,
       "text": [
        "           value\n",
        "word            \n",
        "abandon       -2\n",
        "abandoned     -2\n",
        "abandons      -2\n",
        "abducted      -2\n",
        "abduction     -2"
       ]
      }
     ],
     "prompt_number": 10
    },
    {
     "cell_type": "code",
     "collapsed": false,
     "input": [
      "s_lookup = s.to_dict()['value']\n",
      "s_lookup.items()[:10]"
     ],
     "language": "python",
     "metadata": {},
     "outputs": [
      {
       "metadata": {},
       "output_type": "pyout",
       "prompt_number": 11,
       "text": [
        "[('limited', -1),\n",
        " ('suicidal', -2),\n",
        " ('pardon', 2),\n",
        " ('desirable', 2),\n",
        " ('protest', -2),\n",
        " ('lurking', -1),\n",
        " ('controversial', -2),\n",
        " ('hating', -3),\n",
        " ('ridiculous', -3),\n",
        " ('hate', -3)]"
       ]
      }
     ],
     "prompt_number": 11
    },
    {
     "cell_type": "heading",
     "level": 2,
     "metadata": {},
     "source": [
      "What is the `sentiment` of the words in our data?"
     ]
    },
    {
     "cell_type": "markdown",
     "metadata": {},
     "source": [
      "- Only consider the words in the AFINN file."
     ]
    },
    {
     "cell_type": "code",
     "collapsed": false,
     "input": [
      "values = {}\n",
      "for w in d.keys():\n",
      "    if w in s_lookup:\n",
      "        if w in freq:\n",
      "            values[w] = {}\n",
      "            values[w]['value'] = s_lookup[w]\n",
      "            values[w]['freq'] = freq[w]\n"
     ],
     "language": "python",
     "metadata": {},
     "outputs": [],
     "prompt_number": 40
    },
    {
     "cell_type": "code",
     "collapsed": false,
     "input": [
      "values.items()[:10]"
     ],
     "language": "python",
     "metadata": {},
     "outputs": [
      {
       "metadata": {},
       "output_type": "pyout",
       "prompt_number": 20,
       "text": [
        "[(u'liar', {'freq': 2, 'value': -3}),\n",
        " (u'forget', {'freq': 6, 'value': -1}),\n",
        " (u'pardon', {'freq': 1, 'value': 2}),\n",
        " (u'lack', {'freq': 9, 'value': -2}),\n",
        " (u'protest', {'freq': 1, 'value': -2}),\n",
        " (u'stops', {'freq': 1, 'value': -1}),\n",
        " (u'grateful', {'freq': 1, 'value': 3}),\n",
        " (u'hating', {'freq': 1, 'value': -3}),\n",
        " (u'battle', {'freq': 1, 'value': -1}),\n",
        " (u'hate', {'freq': 30, 'value': -3})]"
       ]
      }
     ],
     "prompt_number": 20
    },
    {
     "cell_type": "code",
     "collapsed": false,
     "input": [
      "len(values)"
     ],
     "language": "python",
     "metadata": {},
     "outputs": [
      {
       "metadata": {},
       "output_type": "pyout",
       "prompt_number": 21,
       "text": [
        "605"
       ]
      }
     ],
     "prompt_number": 21
    },
    {
     "cell_type": "markdown",
     "metadata": {},
     "source": [
      "Create single list."
     ]
    },
    {
     "cell_type": "code",
     "collapsed": false,
     "input": [
      "tmp = []\n",
      "for key, item in values.items():\n",
      "    for x in range(item['freq']): \n",
      "        tmp.append(item['value'])\n"
     ],
     "language": "python",
     "metadata": {},
     "outputs": [],
     "prompt_number": 37
    },
    {
     "cell_type": "code",
     "collapsed": false,
     "input": [
      "print(len(tmp))"
     ],
     "language": "python",
     "metadata": {},
     "outputs": [
      {
       "output_type": "stream",
       "stream": "stdout",
       "text": [
        "3078\n"
       ]
      }
     ],
     "prompt_number": 39
    },
    {
     "cell_type": "code",
     "collapsed": false,
     "input": [
      "tmp[:10]"
     ],
     "language": "python",
     "metadata": {},
     "outputs": [
      {
       "metadata": {},
       "output_type": "pyout",
       "prompt_number": 38,
       "text": [
        "[-3, -3, -1, -1, -1, -1, -1, -1, 2, -2]"
       ]
      }
     ],
     "prompt_number": 38
    },
    {
     "cell_type": "code",
     "collapsed": false,
     "input": [
      "plt.hist(tmp)\n",
      "plt.show()"
     ],
     "language": "python",
     "metadata": {},
     "outputs": [
      {
       "metadata": {},
       "output_type": "display_data",
       "png": "[encoded data removed]",
       "text": [
        "<matplotlib.figure.Figure at 0x10972fe90>"
       ]
      }
     ],
     "prompt_number": 41
    },
    {
     "cell_type": "markdown",
     "metadata": {},
     "source": [
      "How do we do this with `map` and `reduce`?"
     ]
    },
    {
     "cell_type": "heading",
     "level": 2,
     "metadata": {},
     "source": [
      "What is the `sentiment` of a tweet?"
     ]
    },
    {
     "cell_type": "code",
     "collapsed": false,
     "input": [
      "data[0]"
     ],
     "language": "python",
     "metadata": {},
     "outputs": [
      {
       "metadata": {},
       "output_type": "pyout",
       "prompt_number": 43,
       "text": [
        "u'RT @faceinstant: Vous trouverez de mani\\xe9re tr\\xe9s simple comment pirater du compte facebook simplement aller voir : http://t.co/MTELl3KoyF'"
       ]
      }
     ],
     "prompt_number": 43
    },
    {
     "cell_type": "code",
     "collapsed": false,
     "input": [],
     "language": "python",
     "metadata": {},
     "outputs": []
    },
    {
     "cell_type": "markdown",
     "metadata": {},
     "source": [
      "With `map` and `reduce`."
     ]
    },
    {
     "cell_type": "code",
     "collapsed": false,
     "input": [
      "def tweet_sent(tweet):\n",
      "    words = re.findall(r'[a-z0-9]+', tweet.lower())\n",
      "    fwords = filter(lambda x: x in s_lookup, words)\n",
      "    value = sum(map(lambda x: s_lookup[x], fwords))\n",
      "    return value"
     ],
     "language": "python",
     "metadata": {},
     "outputs": []
    },
    {
     "cell_type": "code",
     "collapsed": false,
     "input": [
      "tmp = map(tweet_sent, data)"
     ],
     "language": "python",
     "metadata": {},
     "outputs": [],
     "prompt_number": 15
    },
    {
     "cell_type": "code",
     "collapsed": false,
     "input": [
      "plt.hist(tmp)\n",
      "plt.show()"
     ],
     "language": "python",
     "metadata": {},
     "outputs": [
      {
       "metadata": {},
       "output_type": "display_data",
       "png": "[encoded data removed]",
       "text": [
        "<matplotlib.figure.Figure at 0x107e5b610>"
       ]
      }
     ],
     "prompt_number": 16
    },
    {
     "cell_type": "heading",
     "level": 2,
     "metadata": {},
     "source": [
      "Happiest State"
     ]
    },
    {
     "cell_type": "markdown",
     "metadata": {},
     "source": [
      "Modify our `load_twitter` function to include `state`."
     ]
    },
    {
     "cell_type": "code",
     "collapsed": false,
     "input": [
      "def load_twitter(tweet_file):\n",
      "    text_data = []\n",
      "    for line in tweet_file:\n",
      "        try:\n",
      "            data = json.loads(line)\n",
      "            if data['place']['country'] == 'United States':\n",
      "                state = data['place']['full_name'].split(',')[1]\n",
      "                text = data['text']\n",
      "                tmp = {'state': state, 'text': text}\n",
      "                text_data.append(tmp)\n",
      "        except:\n",
      "            pass\n",
      "    return text_data"
     ],
     "language": "python",
     "metadata": {},
     "outputs": [],
     "prompt_number": 44
    },
    {
     "cell_type": "code",
     "collapsed": false,
     "input": [
      "data = load_twitter(open(os.path.join('data', 'output_large.txt')))"
     ],
     "language": "python",
     "metadata": {},
     "outputs": [],
     "prompt_number": 45
    },
    {
     "cell_type": "code",
     "collapsed": false,
     "input": [
      "len(data)"
     ],
     "language": "python",
     "metadata": {},
     "outputs": [
      {
       "metadata": {},
       "output_type": "pyout",
       "prompt_number": 46,
       "text": [
        "562"
       ]
      }
     ],
     "prompt_number": 46
    },
    {
     "cell_type": "code",
     "collapsed": false,
     "input": [
      "def tweet_sent(tweet):\n",
      "    words = re.findall(r'[a-z0-9]+', tweet['text'].lower())\n",
      "    fwords = filter(lambda x: x in s_lookup, words)\n",
      "    value = sum(map(lambda x: s_lookup[x], fwords))\n",
      "    return tweet['state'], value"
     ],
     "language": "python",
     "metadata": {},
     "outputs": [],
     "prompt_number": 49
    },
    {
     "cell_type": "code",
     "collapsed": false,
     "input": [
      "tmp = map(tweet_sent, data)"
     ],
     "language": "python",
     "metadata": {},
     "outputs": [],
     "prompt_number": 50
    },
    {
     "cell_type": "code",
     "collapsed": false,
     "input": [
      "df = pd.DataFrame(tmp)\n",
      "df.columns = ['state','value']"
     ],
     "language": "python",
     "metadata": {},
     "outputs": [],
     "prompt_number": 51
    },
    {
     "cell_type": "code",
     "collapsed": false,
     "input": [
      "df.groupby('state').mean().sort('value').plot(kind='barh')"
     ],
     "language": "python",
     "metadata": {},
     "outputs": [
      {
       "metadata": {},
       "output_type": "pyout",
       "prompt_number": 52,
       "text": [
        "<matplotlib.axes._subplots.AxesSubplot at 0x109e04310>"
       ]
      },
      {
       "metadata": {},
       "output_type": "display_data",
       "png": "[encoded data removed]",
       "text": [
        "<matplotlib.figure.Figure at 0x109dece10>"
       ]
      }
     ],
     "prompt_number": 52
    },
    {
     "cell_type": "code",
     "collapsed": false,
     "input": [
      "tmp = df.groupby('state').agg(['mean','count'])['value']"
     ],
     "language": "python",
     "metadata": {},
     "outputs": [],
     "prompt_number": 53
    },
    {
     "cell_type": "code",
     "collapsed": false,
     "input": [
      "tmp = tmp.ix[filter(lambda x: len(x.strip())==2, tmp.index)]\n",
      "tmp"
     ],
     "language": "python",
     "metadata": {},
     "outputs": [
      {
       "html": [
        "<div style=\"max-height:1000px;max-width:1500px;overflow:auto;\">\n",
        "<table border=\"1\" class=\"dataframe\">\n",
        "  <thead>\n",
        "    <tr style=\"text-align: right;\">\n",
        "      <th></th>\n",
        "      <th>mean</th>\n",
        "      <th>count</th>\n",
        "    </tr>\n",
        "  </thead>\n",
        "  <tbody>\n",
        "    <tr>\n",
        "      <th> AL</th>\n",
        "      <td> 1.000000</td>\n",
        "      <td>  4</td>\n",
        "    </tr>\n",
        "    <tr>\n",
        "      <th> AR</th>\n",
        "      <td>-0.500000</td>\n",
        "      <td>  2</td>\n",
        "    </tr>\n",
        "    <tr>\n",
        "      <th> AZ</th>\n",
        "      <td> 0.100000</td>\n",
        "      <td> 10</td>\n",
        "    </tr>\n",
        "    <tr>\n",
        "      <th> CA</th>\n",
        "      <td> 0.844828</td>\n",
        "      <td> 58</td>\n",
        "    </tr>\n",
        "    <tr>\n",
        "      <th> CO</th>\n",
        "      <td> 1.800000</td>\n",
        "      <td>  5</td>\n",
        "    </tr>\n",
        "    <tr>\n",
        "      <th> CT</th>\n",
        "      <td>-0.125000</td>\n",
        "      <td>  8</td>\n",
        "    </tr>\n",
        "    <tr>\n",
        "      <th> DC</th>\n",
        "      <td> 0.000000</td>\n",
        "      <td>  1</td>\n",
        "    </tr>\n",
        "    <tr>\n",
        "      <th> DE</th>\n",
        "      <td> 0.000000</td>\n",
        "      <td>  1</td>\n",
        "    </tr>\n",
        "    <tr>\n",
        "      <th> FL</th>\n",
        "      <td> 0.178571</td>\n",
        "      <td> 28</td>\n",
        "    </tr>\n",
        "    <tr>\n",
        "      <th> GA</th>\n",
        "      <td> 0.875000</td>\n",
        "      <td>  8</td>\n",
        "    </tr>\n",
        "    <tr>\n",
        "      <th> HI</th>\n",
        "      <td> 6.000000</td>\n",
        "      <td>  2</td>\n",
        "    </tr>\n",
        "    <tr>\n",
        "      <th> IA</th>\n",
        "      <td>-0.333333</td>\n",
        "      <td>  3</td>\n",
        "    </tr>\n",
        "    <tr>\n",
        "      <th> IL</th>\n",
        "      <td>-0.071429</td>\n",
        "      <td> 14</td>\n",
        "    </tr>\n",
        "    <tr>\n",
        "      <th> IN</th>\n",
        "      <td>-0.250000</td>\n",
        "      <td> 16</td>\n",
        "    </tr>\n",
        "    <tr>\n",
        "      <th> KS</th>\n",
        "      <td> 1.000000</td>\n",
        "      <td>  4</td>\n",
        "    </tr>\n",
        "    <tr>\n",
        "      <th> KY</th>\n",
        "      <td> 1.000000</td>\n",
        "      <td>  5</td>\n",
        "    </tr>\n",
        "    <tr>\n",
        "      <th> LA</th>\n",
        "      <td> 0.909091</td>\n",
        "      <td> 11</td>\n",
        "    </tr>\n",
        "    <tr>\n",
        "      <th> MA</th>\n",
        "      <td>-0.416667</td>\n",
        "      <td> 12</td>\n",
        "    </tr>\n",
        "    <tr>\n",
        "      <th> MD</th>\n",
        "      <td> 1.666667</td>\n",
        "      <td>  6</td>\n",
        "    </tr>\n",
        "    <tr>\n",
        "      <th> MI</th>\n",
        "      <td> 0.619048</td>\n",
        "      <td> 21</td>\n",
        "    </tr>\n",
        "    <tr>\n",
        "      <th> MN</th>\n",
        "      <td> 0.777778</td>\n",
        "      <td>  9</td>\n",
        "    </tr>\n",
        "    <tr>\n",
        "      <th> MO</th>\n",
        "      <td> 1.571429</td>\n",
        "      <td>  7</td>\n",
        "    </tr>\n",
        "    <tr>\n",
        "      <th> MS</th>\n",
        "      <td>-2.000000</td>\n",
        "      <td>  2</td>\n",
        "    </tr>\n",
        "    <tr>\n",
        "      <th> NC</th>\n",
        "      <td>-0.538462</td>\n",
        "      <td> 13</td>\n",
        "    </tr>\n",
        "    <tr>\n",
        "      <th> ND</th>\n",
        "      <td> 0.000000</td>\n",
        "      <td>  1</td>\n",
        "    </tr>\n",
        "    <tr>\n",
        "      <th> NE</th>\n",
        "      <td>-1.000000</td>\n",
        "      <td>  2</td>\n",
        "    </tr>\n",
        "    <tr>\n",
        "      <th> NJ</th>\n",
        "      <td> 0.125000</td>\n",
        "      <td> 24</td>\n",
        "    </tr>\n",
        "    <tr>\n",
        "      <th> NM</th>\n",
        "      <td>-0.250000</td>\n",
        "      <td>  4</td>\n",
        "    </tr>\n",
        "    <tr>\n",
        "      <th> NV</th>\n",
        "      <td> 0.250000</td>\n",
        "      <td>  4</td>\n",
        "    </tr>\n",
        "    <tr>\n",
        "      <th> NY</th>\n",
        "      <td> 1.470588</td>\n",
        "      <td> 34</td>\n",
        "    </tr>\n",
        "    <tr>\n",
        "      <th> OH</th>\n",
        "      <td> 0.350000</td>\n",
        "      <td> 20</td>\n",
        "    </tr>\n",
        "    <tr>\n",
        "      <th> OK</th>\n",
        "      <td>-0.600000</td>\n",
        "      <td>  5</td>\n",
        "    </tr>\n",
        "    <tr>\n",
        "      <th> OR</th>\n",
        "      <td> 1.857143</td>\n",
        "      <td>  7</td>\n",
        "    </tr>\n",
        "    <tr>\n",
        "      <th> PA</th>\n",
        "      <td> 0.000000</td>\n",
        "      <td> 16</td>\n",
        "    </tr>\n",
        "    <tr>\n",
        "      <th> PR</th>\n",
        "      <td>-0.222222</td>\n",
        "      <td>  9</td>\n",
        "    </tr>\n",
        "    <tr>\n",
        "      <th> RI</th>\n",
        "      <td>-1.000000</td>\n",
        "      <td>  2</td>\n",
        "    </tr>\n",
        "    <tr>\n",
        "      <th> SC</th>\n",
        "      <td> 0.142857</td>\n",
        "      <td>  7</td>\n",
        "    </tr>\n",
        "    <tr>\n",
        "      <th> TN</th>\n",
        "      <td> 1.000000</td>\n",
        "      <td>  8</td>\n",
        "    </tr>\n",
        "    <tr>\n",
        "      <th> TX</th>\n",
        "      <td> 0.551020</td>\n",
        "      <td> 49</td>\n",
        "    </tr>\n",
        "    <tr>\n",
        "      <th> US</th>\n",
        "      <td> 0.025974</td>\n",
        "      <td> 77</td>\n",
        "    </tr>\n",
        "    <tr>\n",
        "      <th> UT</th>\n",
        "      <td> 5.000000</td>\n",
        "      <td>  1</td>\n",
        "    </tr>\n",
        "    <tr>\n",
        "      <th> VA</th>\n",
        "      <td> 0.928571</td>\n",
        "      <td> 14</td>\n",
        "    </tr>\n",
        "    <tr>\n",
        "      <th> WA</th>\n",
        "      <td> 1.285714</td>\n",
        "      <td>  7</td>\n",
        "    </tr>\n",
        "    <tr>\n",
        "      <th> WI</th>\n",
        "      <td>-0.250000</td>\n",
        "      <td>  8</td>\n",
        "    </tr>\n",
        "    <tr>\n",
        "      <th> WV</th>\n",
        "      <td> 1.000000</td>\n",
        "      <td>  2</td>\n",
        "    </tr>\n",
        "  </tbody>\n",
        "</table>\n",
        "</div>"
       ],
       "metadata": {},
       "output_type": "pyout",
       "prompt_number": 54,
       "text": [
        "         mean  count\n",
        " AL  1.000000      4\n",
        " AR -0.500000      2\n",
        " AZ  0.100000     10\n",
        " CA  0.844828     58\n",
        " CO  1.800000      5\n",
        " CT -0.125000      8\n",
        " DC  0.000000      1\n",
        " DE  0.000000      1\n",
        " FL  0.178571     28\n",
        " GA  0.875000      8\n",
        " HI  6.000000      2\n",
        " IA -0.333333      3\n",
        " IL -0.071429     14\n",
        " IN -0.250000     16\n",
        " KS  1.000000      4\n",
        " KY  1.000000      5\n",
        " LA  0.909091     11\n",
        " MA -0.416667     12\n",
        " MD  1.666667      6\n",
        " MI  0.619048     21\n",
        " MN  0.777778      9\n",
        " MO  1.571429      7\n",
        " MS -2.000000      2\n",
        " NC -0.538462     13\n",
        " ND  0.000000      1\n",
        " NE -1.000000      2\n",
        " NJ  0.125000     24\n",
        " NM -0.250000      4\n",
        " NV  0.250000      4\n",
        " NY  1.470588     34\n",
        " OH  0.350000     20\n",
        " OK -0.600000      5\n",
        " OR  1.857143      7\n",
        " PA  0.000000     16\n",
        " PR -0.222222      9\n",
        " RI -1.000000      2\n",
        " SC  0.142857      7\n",
        " TN  1.000000      8\n",
        " TX  0.551020     49\n",
        " US  0.025974     77\n",
        " UT  5.000000      1\n",
        " VA  0.928571     14\n",
        " WA  1.285714      7\n",
        " WI -0.250000      8\n",
        " WV  1.000000      2"
       ]
      }
     ],
     "prompt_number": 54
    },
    {
     "cell_type": "code",
     "collapsed": false,
     "input": [
      "tmp[tmp['count'] > 5]['mean'].order().plot(kind='barh')"
     ],
     "language": "python",
     "metadata": {},
     "outputs": [
      {
       "metadata": {},
       "output_type": "pyout",
       "prompt_number": 55,
       "text": [
        "<matplotlib.axes._subplots.AxesSubplot at 0x1096f4b50>"
       ]
      },
      {
       "metadata": {},
       "output_type": "display_data",
       "png": "[encoded data removed]",
       "text": [
        "<matplotlib.figure.Figure at 0x10847d3d0>"
       ]
      }
     ],
     "prompt_number": 55
    },
    {
     "cell_type": "code",
     "collapsed": false,
     "input": [],
     "language": "python",
     "metadata": {},
     "outputs": []
    }
   ],
   "metadata": {}
  }
 ]
}