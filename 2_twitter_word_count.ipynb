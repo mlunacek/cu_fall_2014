{
 "metadata": {
  "name": "",
  "signature": "sha256:c653e55b8a48eec8f2f782a4f80be3cfea81ee0427b1df1aa6735b5a424bb93e"
 },
 "nbformat": 3,
 "nbformat_minor": 0,
 "worksheets": [
  {
   "cells": [
    {
     "cell_type": "heading",
     "level": 1,
     "metadata": {},
     "source": [
      "Twitter word count"
     ]
    },
    {
     "cell_type": "markdown",
     "metadata": {},
     "source": [
      "Adapted from Coursera's \"Introduction to Data Science\""
     ]
    },
    {
     "cell_type": "heading",
     "level": 2,
     "metadata": {},
     "source": [
      "Warm up"
     ]
    },
    {
     "cell_type": "code",
     "collapsed": false,
     "input": [
      "from __future__ import print_function\n",
      "import math\n",
      "r = float(\"4.2\")\n",
      "s = math.sin(r)\n",
      "print('hello world! The sin({0}) = {1:0.2f}'.format(r,s))"
     ],
     "language": "python",
     "metadata": {},
     "outputs": []
    },
    {
     "cell_type": "markdown",
     "metadata": {},
     "source": [
      "There is a lot going on here!"
     ]
    },
    {
     "cell_type": "heading",
     "level": 2,
     "metadata": {},
     "source": [
      "Twitter data: simple example"
     ]
    },
    {
     "cell_type": "markdown",
     "metadata": {},
     "source": [
      "Example line from the `firehose`"
     ]
    },
    {
     "cell_type": "code",
     "collapsed": false,
     "input": [
      "line = '{\"created_at\":\"Fri May 10 20:26:52 +0000 2013\",\"id\":332954916115058688,\"id_str\":\"332954916115058688\", \"text\": \"Take advantage of every opp you have to grow ur network...  u never know where that relationship will take u\"}'"
     ],
     "language": "python",
     "metadata": {},
     "outputs": []
    },
    {
     "cell_type": "markdown",
     "metadata": {},
     "source": [
      "How do we read this into memory?"
     ]
    },
    {
     "cell_type": "code",
     "collapsed": false,
     "input": [
      "import json\n",
      "\n",
      "data = json.loads(line)\n",
      "print(data)"
     ],
     "language": "python",
     "metadata": {},
     "outputs": []
    },
    {
     "cell_type": "code",
     "collapsed": false,
     "input": [
      "print(type(data))"
     ],
     "language": "python",
     "metadata": {},
     "outputs": []
    },
    {
     "cell_type": "markdown",
     "metadata": {},
     "source": [
      "A favorite python data structure, the `dicionary`.\n",
      "\n",
      "What are the `key` values?"
     ]
    },
    {
     "cell_type": "code",
     "collapsed": false,
     "input": [],
     "language": "python",
     "metadata": {},
     "outputs": []
    },
    {
     "cell_type": "markdown",
     "metadata": {},
     "source": [
      "What are the `values` of those `keys`?"
     ]
    },
    {
     "cell_type": "code",
     "collapsed": false,
     "input": [],
     "language": "python",
     "metadata": {},
     "outputs": []
    },
    {
     "cell_type": "heading",
     "level": 2,
     "metadata": {},
     "source": [
      "Twitter data: from a file"
     ]
    },
    {
     "cell_type": "code",
     "collapsed": false,
     "input": [
      "import os\n",
      "\n",
      "dpath = os.path.join('data', 'output.txt')\n",
      "twitter_raw = open(dpath,'r').read()"
     ],
     "language": "python",
     "metadata": {},
     "outputs": []
    },
    {
     "cell_type": "markdown",
     "metadata": {},
     "source": [
      "How many rows do we have?"
     ]
    },
    {
     "cell_type": "code",
     "collapsed": false,
     "input": [],
     "language": "python",
     "metadata": {},
     "outputs": []
    },
    {
     "cell_type": "markdown",
     "metadata": {},
     "source": [
      "Let's read the information in and store as a `list` of `strings` objects.\n",
      "\n",
      "We only (for now) care about the `text` field."
     ]
    },
    {
     "cell_type": "code",
     "collapsed": false,
     "input": [
      "def load_twitter(tweet_file):\n",
      "    text_data = []\n",
      "    for line in tweet_file:\n",
      "        data = json.loads(line)\n",
      "        text_data.append(data['text'])\n",
      "\n",
      "    return text_data"
     ],
     "language": "python",
     "metadata": {},
     "outputs": []
    },
    {
     "cell_type": "code",
     "collapsed": false,
     "input": [
      "data = load_twitter(open(dpath))"
     ],
     "language": "python",
     "metadata": {},
     "outputs": []
    },
    {
     "cell_type": "markdown",
     "metadata": {},
     "source": [
      "How many had text?"
     ]
    },
    {
     "cell_type": "code",
     "collapsed": false,
     "input": [],
     "language": "python",
     "metadata": {},
     "outputs": []
    },
    {
     "cell_type": "markdown",
     "metadata": {},
     "source": [
      "What does this look like?"
     ]
    },
    {
     "cell_type": "code",
     "collapsed": false,
     "input": [],
     "language": "python",
     "metadata": {},
     "outputs": []
    },
    {
     "cell_type": "heading",
     "level": 2,
     "metadata": {},
     "source": [
      "Word count frequency"
     ]
    },
    {
     "cell_type": "markdown",
     "metadata": {},
     "source": [
      "What are the most frequently used words in our twitter data?"
     ]
    },
    {
     "cell_type": "markdown",
     "metadata": {},
     "source": [
      "How do I convert a `list` of `text` into a `list` of `words`?\n",
      "\n",
      "- Combine all the lists into a single string.\n",
      "- Split the single string.\n"
     ]
    },
    {
     "cell_type": "code",
     "collapsed": false,
     "input": [
      "allwords = ' '.join(data)\n",
      "print(len(data), len(allwords))"
     ],
     "language": "python",
     "metadata": {},
     "outputs": [
      {
       "output_type": "stream",
       "stream": "stdout",
       "text": [
        "1 140\n"
       ]
      }
     ],
     "prompt_number": 66
    },
    {
     "cell_type": "markdown",
     "metadata": {},
     "source": [
      "You should learn **regular expressions**!"
     ]
    },
    {
     "cell_type": "code",
     "collapsed": false,
     "input": [
      "import re\n",
      "\n",
      "words = re.findall(r'[a-z0-9]+', allwords)"
     ],
     "language": "python",
     "metadata": {},
     "outputs": []
    },
    {
     "cell_type": "code",
     "collapsed": false,
     "input": [
      "print(len(words), 'total words')\n",
      "print(len(set(words)), 'unique words')"
     ],
     "language": "python",
     "metadata": {},
     "outputs": []
    },
    {
     "cell_type": "markdown",
     "metadata": {},
     "source": [
      "- string conversion\n",
      "- regular expressions\n",
      "- sets"
     ]
    },
    {
     "cell_type": "markdown",
     "metadata": {},
     "source": [
      "Words greater than lenth `2`"
     ]
    },
    {
     "cell_type": "code",
     "collapsed": false,
     "input": [
      "long_words = []\n",
      "for w in words:\n",
      "    if len(w) > 2:\n",
      "        long_words.append(w)\n",
      "        \n",
      "print(len(long_words))"
     ],
     "language": "python",
     "metadata": {},
     "outputs": []
    },
    {
     "cell_type": "markdown",
     "metadata": {},
     "source": [
      "We can also use python's functional style."
     ]
    },
    {
     "cell_type": "code",
     "collapsed": false,
     "input": [
      "long_words = filter(lambda x: len(x)>2, words)\n",
      "\n",
      "print(len(long_words))"
     ],
     "language": "python",
     "metadata": {},
     "outputs": []
    },
    {
     "cell_type": "markdown",
     "metadata": {},
     "source": [
      "What is the frequency?\n",
      "\n",
      "Again, a favorite python data structure, the `dicionary`."
     ]
    },
    {
     "cell_type": "code",
     "collapsed": false,
     "input": [
      "d = {}\n",
      "\n",
      "\n",
      "print(len(d))"
     ],
     "language": "python",
     "metadata": {},
     "outputs": []
    },
    {
     "cell_type": "markdown",
     "metadata": {},
     "source": [
      "The `get` method.  "
     ]
    },
    {
     "cell_type": "code",
     "collapsed": false,
     "input": [
      "d = dict()\n",
      "for w in long_words:\n",
      "    d[w] = d.get(w,0) + 1\n",
      "\n",
      "print(len(d))"
     ],
     "language": "python",
     "metadata": {},
     "outputs": []
    },
    {
     "cell_type": "markdown",
     "metadata": {},
     "source": [
      "`get`(key, default)"
     ]
    },
    {
     "cell_type": "code",
     "collapsed": false,
     "input": [
      "print(len(set(long_words)))"
     ],
     "language": "python",
     "metadata": {},
     "outputs": []
    },
    {
     "cell_type": "heading",
     "level": 3,
     "metadata": {},
     "source": [
      "Sorting dictionarys"
     ]
    },
    {
     "cell_type": "markdown",
     "metadata": {},
     "source": [
      "A list of pairs"
     ]
    },
    {
     "cell_type": "code",
     "collapsed": false,
     "input": [
      "print( d.items()[:5] )"
     ],
     "language": "python",
     "metadata": {},
     "outputs": []
    },
    {
     "cell_type": "markdown",
     "metadata": {},
     "source": [
      "We can use the `sorted` method on a `list`."
     ]
    },
    {
     "cell_type": "code",
     "collapsed": false,
     "input": [
      "sorted(d.items())[:5]"
     ],
     "language": "python",
     "metadata": {},
     "outputs": []
    },
    {
     "cell_type": "markdown",
     "metadata": {},
     "source": [
      "But we want it sorted by a different `key`."
     ]
    },
    {
     "cell_type": "code",
     "collapsed": false,
     "input": [
      "def sort_key(pair):\n",
      "    return pair[1] #instead of pair[0] by default\n",
      "\n",
      "sorted(d.items(), key=sort_key, reverse=True)[:10]"
     ],
     "language": "python",
     "metadata": {},
     "outputs": []
    },
    {
     "cell_type": "markdown",
     "metadata": {},
     "source": [
      "Or use an **anonymous function**, `lambda`"
     ]
    },
    {
     "cell_type": "code",
     "collapsed": false,
     "input": [],
     "language": "python",
     "metadata": {},
     "outputs": []
    },
    {
     "cell_type": "heading",
     "level": 3,
     "metadata": {},
     "source": [
      "Wrangle"
     ]
    },
    {
     "cell_type": "markdown",
     "metadata": {},
     "source": [
      "We need to pull out the `values` and the word `labels`."
     ]
    },
    {
     "cell_type": "code",
     "collapsed": false,
     "input": [
      "sorted_items = sorted(d.items(), key=lambda x: x[1], reverse=True)\n",
      "\n",
      "labels = []\n",
      "values = []\n",
      "for label, value in sorted_items[:20]:\n",
      "    labels.append(label)\n",
      "    values.append(value)\n",
      "\n",
      "print(values)\n",
      "print(labels)"
     ],
     "language": "python",
     "metadata": {},
     "outputs": []
    },
    {
     "cell_type": "markdown",
     "metadata": {},
     "source": [
      "- unpacking\n",
      "- anonymous functions\n",
      "- sorted"
     ]
    },
    {
     "cell_type": "markdown",
     "metadata": {},
     "source": [
      "Or use the `map` function."
     ]
    },
    {
     "cell_type": "code",
     "collapsed": false,
     "input": [],
     "language": "python",
     "metadata": {},
     "outputs": []
    },
    {
     "cell_type": "markdown",
     "metadata": {},
     "source": [
      "Or use `list comprehension`!"
     ]
    },
    {
     "cell_type": "code",
     "collapsed": false,
     "input": [],
     "language": "python",
     "metadata": {},
     "outputs": []
    },
    {
     "cell_type": "markdown",
     "metadata": {},
     "source": [
      "- another favorite: list comprehension!\n",
      "- selection"
     ]
    },
    {
     "cell_type": "heading",
     "level": 3,
     "metadata": {},
     "source": [
      "Visualize"
     ]
    },
    {
     "cell_type": "code",
     "collapsed": false,
     "input": [
      "#next line is for the notebook only.\n",
      "%matplotlib inline  \n",
      "import matplotlib.pyplot as plt\n",
      "\n",
      "plt.barh(range(len(values)), values, color='grey')\n",
      "plt.yticks(range(len(values)), labels)\n",
      "plt.show()"
     ],
     "language": "python",
     "metadata": {},
     "outputs": []
    },
    {
     "cell_type": "heading",
     "level": 3,
     "metadata": {},
     "source": [
      "Frequency wrap-up"
     ]
    },
    {
     "cell_type": "markdown",
     "metadata": {},
     "source": [
      "- Raw data\n",
      "    - `re`\n",
      "- Processing (*wrangling*)\n",
      "    - `filter`\n",
      "- Analysis\n",
      "    - counting\n",
      "    - `dictionary` \n",
      "    - `sorting`\n",
      "- Visualization\n",
      "    - `matplotlib`"
     ]
    },
    {
     "cell_type": "heading",
     "level": 4,
     "metadata": {},
     "source": [
      "Impreative summary"
     ]
    },
    {
     "cell_type": "code",
     "collapsed": false,
     "input": [
      "#split\n",
      "words = re.findall(r'[a-z0-9]+', allwords)\n",
      "\n",
      "# Filter\n",
      "long_words = []\n",
      "for w in words:\n",
      "    if len(w) > 2:\n",
      "        long_words.append(w)\n",
      "        \n",
      "#frequency\n",
      "d = dict()\n",
      "for w in long_words:\n",
      "    d[w] = d.get(w,0) + 1\n",
      "    \n",
      "# sort\n",
      "def sort_key(pair):\n",
      "    return pair[1] #instead of pair[0] by default\n",
      "\n",
      "#Select and sort\n",
      "top_ten = sorted(d.items(), key=sort_key, reverse=True)[:10]\n",
      "\n",
      "print(top_ten)"
     ],
     "language": "python",
     "metadata": {},
     "outputs": []
    },
    {
     "cell_type": "heading",
     "level": 4,
     "metadata": {},
     "source": [
      "Functional"
     ]
    },
    {
     "cell_type": "code",
     "collapsed": false,
     "input": [
      "import toolz\n",
      "\n",
      "#split and filter\n",
      "long_words = filter(lambda x: len(x)>2, re.findall(r'[a-z0-9]+', allwords)\n",
      "\n",
      "#frequency\n",
      "d = toolz.frequencies(long_words)\n",
      "\n",
      "#Select and sort\n",
      "top_ten = sorted(d.items(), key=lambda x: x[1], reverse=True)[:10]\n",
      "\n",
      "print(top_ten)"
     ],
     "language": "python",
     "metadata": {},
     "outputs": []
    },
    {
     "cell_type": "heading",
     "level": 4,
     "metadata": {},
     "source": [
      "*Really* functional"
     ]
    },
    {
     "cell_type": "code",
     "collapsed": false,
     "input": [
      "words = re.findall(r'[a-z0-9]+', allwords)\n",
      "\n",
      "wordcount = toolz.comp(toolz.frequencies, \n",
      "                       toolz.partial(filter, lambda x: len(x)>2),\n",
      "                       toolz.partial(re.findall, r'[a-z0-9]+'))\n",
      "\n",
      "top_ten = sorted(wordcount(allwords).items(), key=lambda x: x[1], reverse=True)[:10]\n",
      "\n",
      "print(top_ten)"
     ],
     "language": "python",
     "metadata": {},
     "outputs": []
    },
    {
     "cell_type": "code",
     "collapsed": false,
     "input": [
      "\n",
      "\n"
     ],
     "language": "python",
     "metadata": {},
     "outputs": []
    }
   ],
   "metadata": {}
  }
 ]
}