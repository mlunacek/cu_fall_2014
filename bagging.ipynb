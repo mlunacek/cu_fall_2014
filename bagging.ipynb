{
 "metadata": {
  "name": "",
  "signature": "sha256:caf7f41433f90b3a2f24bf49fa97ae30d8cddd44fe3fc15a07dac009a59d2b77"
 },
 "nbformat": 3,
 "nbformat_minor": 0,
 "worksheets": [
  {
   "cells": [
    {
     "cell_type": "heading",
     "level": 1,
     "metadata": {},
     "source": [
      "Create Features"
     ]
    },
    {
     "cell_type": "code",
     "collapsed": false,
     "input": [
      "from __future__ import print_function\n",
      "%matplotlib inline\n",
      "import matplotlib.pyplot as plt\n",
      "import pandas as pd\n",
      "import numpy as np"
     ],
     "language": "python",
     "metadata": {},
     "outputs": [],
     "prompt_number": 1
    },
    {
     "cell_type": "code",
     "collapsed": false,
     "input": [
      "df = pd.read_csv('data/train.csv')"
     ],
     "language": "python",
     "metadata": {},
     "outputs": [],
     "prompt_number": 4
    },
    {
     "cell_type": "code",
     "collapsed": false,
     "input": [
      "df.count()"
     ],
     "language": "python",
     "metadata": {},
     "outputs": [
      {
       "metadata": {},
       "output_type": "pyout",
       "prompt_number": 5,
       "text": [
        "PassengerId    891\n",
        "Survived       891\n",
        "Pclass         891\n",
        "Name           891\n",
        "Sex            891\n",
        "Age            714\n",
        "SibSp          891\n",
        "Parch          891\n",
        "Ticket         891\n",
        "Fare           891\n",
        "Cabin          204\n",
        "Embarked       889\n",
        "dtype: int64"
       ]
      }
     ],
     "prompt_number": 5
    },
    {
     "cell_type": "heading",
     "level": 2,
     "metadata": {},
     "source": [
      "Family field"
     ]
    },
    {
     "cell_type": "code",
     "collapsed": false,
     "input": [
      "df['family'] = df['SibSp'] + df['Parch']\n",
      "plt.hist(df['family'].values)\n",
      "plt.show()"
     ],
     "language": "python",
     "metadata": {},
     "outputs": [
      {
       "metadata": {},
       "output_type": "display_data",
       "png": "[encoded data removed]",
       "text": [
        "<matplotlib.figure.Figure at 0x107d5ae90>"
       ]
      }
     ],
     "prompt_number": 6
    },
    {
     "cell_type": "heading",
     "level": 2,
     "metadata": {},
     "source": [
      "Age Buckets"
     ]
    },
    {
     "cell_type": "code",
     "collapsed": false,
     "input": [
      "df['cut_age'] = pd.cut(df['Age'].values, \n",
      "       bins=[df['Age'].min(),18,df['Age'].max()], \n",
      "       retbins=False, \n",
      "       labels=False)\n",
      "\n",
      "index = df['cut_age'].isnull()\n",
      "df.ix[index,'cut_age']  = df['cut_age'].max() + 1\n",
      "\n",
      "df.groupby(['cut_age'])['Survived'].count().plot(kind='bar')"
     ],
     "language": "python",
     "metadata": {},
     "outputs": [
      {
       "metadata": {},
       "output_type": "pyout",
       "prompt_number": 7,
       "text": [
        "<matplotlib.axes._subplots.AxesSubplot at 0x107f55f10>"
       ]
      },
      {
       "metadata": {},
       "output_type": "display_data",
       "png": "[encoded data removed]",
       "text": [
        "<matplotlib.figure.Figure at 0x107d30c50>"
       ]
      }
     ],
     "prompt_number": 7
    },
    {
     "cell_type": "heading",
     "level": 2,
     "metadata": {},
     "source": [
      "Ticket"
     ]
    },
    {
     "cell_type": "code",
     "collapsed": false,
     "input": [
      "def parse_ticket(tic):\n",
      "    \n",
      "    tmp = tic.split(' ')[0]\n",
      "    try:\n",
      "        float(tmp)\n",
      "        return 'N'\n",
      "    except ValueError: \n",
      "        return tmp[0]\n",
      "\n",
      "df['tick'] = df['Ticket'].map(parse_ticket)"
     ],
     "language": "python",
     "metadata": {},
     "outputs": [],
     "prompt_number": 8
    },
    {
     "cell_type": "heading",
     "level": 2,
     "metadata": {},
     "source": [
      "Title"
     ]
    },
    {
     "cell_type": "code",
     "collapsed": false,
     "input": [
      "import re\n",
      "\n",
      "def parse_title(name):\n",
      "    \n",
      "    return re.findall(r'([a-z]+\\.)', name.lower())[0]\n",
      "\n",
      "df['Title'] = df['Name'].map(parse_title)\n",
      "df.groupby(['Title','Sex','cut_age'])['Sex'].count()"
     ],
     "language": "python",
     "metadata": {},
     "outputs": [
      {
       "metadata": {},
       "output_type": "pyout",
       "prompt_number": 9,
       "text": [
        "Title      Sex     cut_age\n",
        "capt.      male    1            1\n",
        "col.       male    1            2\n",
        "countess.  female  1            1\n",
        "don.       male    1            1\n",
        "dr.        female  1            1\n",
        "           male    1            5\n",
        "                   2            1\n",
        "jonkheer.  male    1            1\n",
        "lady.      female  1            1\n",
        "major.     male    1            2\n",
        "master.    male    0           35\n",
        "                   2            5\n",
        "miss.      female  0           61\n",
        "                   1           85\n",
        "                   2           36\n",
        "mlle.      female  1            2\n",
        "mme.       female  1            1\n",
        "mr.        male    0           35\n",
        "                   1          363\n",
        "                   2          119\n",
        "mrs.       female  0            7\n",
        "                   1          101\n",
        "                   2           17\n",
        "ms.        female  1            1\n",
        "rev.       male    1            6\n",
        "sir.       male    1            1\n",
        "Name: Sex, dtype: int64"
       ]
      }
     ],
     "prompt_number": 9
    },
    {
     "cell_type": "code",
     "collapsed": false,
     "input": [
      "def parse_title(name):\n",
      "    title = re.findall(r'([a-z]+\\.)', name.lower())[0]\n",
      "    if title in ['capt.','col.','don.','dr.','jonkheer.','major.','mr.','rev.','sir.']:\n",
      "        return 'mr'\n",
      "    elif title in ['countess.','lady.','mrs.','mme.']:\n",
      "        return 'mrs'\n",
      "    elif title in ['miss.', 'ms.','mlle.']:\n",
      "        return 'miss'\n",
      "    elif title in ['master.']:\n",
      "        return 'mast'\n",
      "\n",
      "df['Title'] = df['Name'].map(parse_title)\n",
      "df.groupby('Title')['Title'].count()"
     ],
     "language": "python",
     "metadata": {},
     "outputs": [
      {
       "metadata": {},
       "output_type": "pyout",
       "prompt_number": 10,
       "text": [
        "Title\n",
        "mast      40\n",
        "miss     185\n",
        "mr       538\n",
        "mrs      128\n",
        "Name: Title, dtype: int64"
       ]
      }
     ],
     "prompt_number": 10
    },
    {
     "cell_type": "heading",
     "level": 2,
     "metadata": {},
     "source": [
      "Try these new fields"
     ]
    },
    {
     "cell_type": "code",
     "collapsed": false,
     "input": [
      "from sklearn.svm import SVC\n",
      "from sklearn.neighbors import KNeighborsClassifier\n",
      "from sklearn.tree import DecisionTreeClassifier\n",
      "from sklearn.naive_bayes import GaussianNB\n",
      "from sklearn.ensemble import RandomForestClassifier\n",
      "from sklearn.ensemble import GradientBoostingClassifier\n",
      "from sklearn.ensemble import ExtraTreesClassifier\n",
      "from sklearn.ensemble import AdaBoostClassifier\n",
      "\n",
      "import numpy as np\n",
      "from sklearn.metrics import accuracy_score, classification_report, roc_curve, auc\n",
      "\n",
      "def cross_validate(clf):\n",
      "\n",
      "    test_res = []\n",
      "    train_res = []\n",
      "    area_res = []\n",
      "\n",
      "    skf = StratifiedKFold(y, 5)\n",
      "    for train, test in skf:\n",
      "        X_train = X[train]\n",
      "        X_test = X[test]\n",
      "        y_train = list(y[train])\n",
      "        y_test = list(y[test])\n",
      "\n",
      "        clf.fit(X_train, y_train)\n",
      "        y_train_pred = list(clf.predict(X_train))\n",
      "        y_test_pred = list(clf.predict(X_test))\n",
      "\n",
      "        train_res.append(accuracy_score(y_train, y_train_pred))\n",
      "        test_res.append(accuracy_score(y_test, y_test_pred))\n",
      "\n",
      "    print(np.mean(train_res), np.mean(test_res))"
     ],
     "language": "python",
     "metadata": {},
     "outputs": [],
     "prompt_number": 17
    },
    {
     "cell_type": "code",
     "collapsed": false,
     "input": [
      "from sklearn.cross_validation import StratifiedKFold\n",
      "from sklearn import preprocessing\n",
      "\n",
      "def get_data():\n",
      "    \n",
      "    tmp =  df[['Survived', 'Sex', 'Pclass', 'Title','Embarked','tick', \n",
      "               'Fare','family']]\n",
      "    \n",
      "    tmp.dropna(axis=0, inplace=True)\n",
      "    Xt = tmp.as_matrix()\n",
      "    y = Xt[:,0].copy()\n",
      "    X = Xt[:,1:].copy()\n",
      "\n",
      "    # Convert to categorical\n",
      "    le = preprocessing.LabelEncoder()\n",
      "\n",
      "    # Convert Sex and pclass to labels\n",
      "    X[:,0] = le.fit(X[:,0]).transform(X[:,0])\n",
      "    X[:,1] = le.fit(X[:,1]).transform(X[:,1])\n",
      "    X[:,2] = le.fit(X[:,2]).transform(X[:,2])\n",
      "    X[:,3] = le.fit(X[:,3]).transform(X[:,3])\n",
      "    X[:,4] = le.fit(X[:,4]).transform(X[:,4])\n",
      "    X[:,5] = le.fit(X[:,5]).transform(X[:,5])\n",
      "    \n",
      "    # Create binary values\n",
      "    enc = preprocessing.OneHotEncoder()\n",
      "    Xn = enc.fit(X[:,:5]).transform(X[:,:5]).toarray()\n",
      "    tmp = np.c_[X[:,5:], Xn]\n",
      "    \n",
      "    return X, y"
     ],
     "language": "python",
     "metadata": {},
     "outputs": [],
     "prompt_number": 12
    },
    {
     "cell_type": "code",
     "collapsed": false,
     "input": [
      "X, y = get_data()\n",
      "\n",
      "clfs = [ DecisionTreeClassifier(),\n",
      "         RandomForestClassifier(),\n",
      "         SVC(),\n",
      "         KNeighborsClassifier(), \n",
      "         GaussianNB()]\n",
      "\n",
      "clfs = [ DecisionTreeClassifier(),\n",
      "         GradientBoostingClassifier(),\n",
      "         ExtraTreesClassifier(),\n",
      "         AdaBoostClassifier()\n",
      "         ]\n",
      "\n",
      "clfs = [ DecisionTreeClassifier(),\n",
      "         DecisionTreeClassifier(max_depth=20),\n",
      "         DecisionTreeClassifier(max_depth=30),\n",
      "         DecisionTreeClassifier(max_depth=40),\n",
      "         DecisionTreeClassifier(max_depth=100),\n",
      "         RandomForestClassifier(criterion='entropy'),\n",
      "         RandomForestClassifier(criterion='gini'),\n",
      "         GradientBoostingClassifier(),\n",
      "         GradientBoostingClassifier(learning_rate=0.1),\n",
      "         GradientBoostingClassifier(subsample=0.5),\n",
      "         GradientBoostingClassifier(learning_rate=0.1, subsample=0.5),\n",
      "         GradientBoostingClassifier(learning_rate=0.1, subsample=0.5, n_estimators=50),\n",
      "         ExtraTreesClassifier(),\n",
      "         AdaBoostClassifier()\n",
      "         ]\n",
      "\n",
      "results = map(cross_validate, clfs)"
     ],
     "language": "python",
     "metadata": {},
     "outputs": [
      {
       "output_type": "stream",
       "stream": "stdout",
       "text": [
        "0.934758371656 0.827924839713 0.823457124122\n",
        "0.934758371656"
       ]
      },
      {
       "output_type": "stream",
       "stream": "stdout",
       "text": [
        " 0.825671300705 0.82058341384\n",
        "0.934758371656"
       ]
      },
      {
       "output_type": "stream",
       "stream": "stdout",
       "text": [
        " 0.816676188662 0.810988660875\n",
        "0.934758371656"
       ]
      },
      {
       "output_type": "stream",
       "stream": "stdout",
       "text": [
        " 0.830165682727 0.825994753532\n",
        "0.934758371656"
       ]
      },
      {
       "output_type": "stream",
       "stream": "stdout",
       "text": [
        " 0.827918491716 0.82289124232\n",
        "0.926322713696"
       ]
      },
      {
       "output_type": "stream",
       "stream": "stdout",
       "text": [
        " 0.82452231321 0.819065725783\n",
        "0.924917429163"
       ]
      },
      {
       "output_type": "stream",
       "stream": "stdout",
       "text": [
        " 0.817768044182 0.812933028309\n",
        "0.89285782013"
       ]
      },
      {
       "output_type": "stream",
       "stream": "stdout",
       "text": [
        " 0.839154446772 0.840096110354\n",
        "0.89285782013"
       ]
      },
      {
       "output_type": "stream",
       "stream": "stdout",
       "text": [
        " 0.839154446772 0.840096110354\n",
        "0.890327359788"
       ]
      },
      {
       "output_type": "stream",
       "stream": "stdout",
       "text": [
        " 0.834634672761 0.835916137761\n",
        "0.89651069075"
       ]
      },
      {
       "output_type": "stream",
       "stream": "stdout",
       "text": [
        " 0.832400177744 0.829911544034\n",
        "0.868953760331"
       ]
      },
      {
       "output_type": "stream",
       "stream": "stdout",
       "text": [
        " 0.831270234241 0.830546680432\n",
        "0.934758371656"
       ]
      },
      {
       "output_type": "stream",
       "stream": "stdout",
       "text": [
        " 0.809902875643 0.806174917172\n",
        "0.839989174924"
       ]
      },
      {
       "output_type": "stream",
       "stream": "stdout",
       "text": [
        " 0.825633212721 0.819174579841\n"
       ]
      }
     ],
     "prompt_number": 13
    },
    {
     "cell_type": "code",
     "collapsed": false,
     "input": [
      "def bagging(clfs):\n",
      "\n",
      "    test_res = []\n",
      "    train_res = []\n",
      "    area_res = []\n",
      "\n",
      "    skf = StratifiedKFold(y, 10)\n",
      "    for train, test in skf:\n",
      "        X_train = X[train]\n",
      "        X_test = X[test]\n",
      "        y_train = list(y[train])\n",
      "        y_test = list(y[test])\n",
      "\n",
      "        y_train_pred = []\n",
      "        y_test_pred = []\n",
      "        for clf in clfs:\n",
      "            clf.fit(X_train, y_train)\n",
      "            y_train_pred.append(list(clf.predict(X_train)))\n",
      "            y_test_pred.append(list(clf.predict(X_test)))\n",
      "\n",
      "        y_train_p = np.array(y_train_pred)\n",
      "        y_test_p = np.array(y_test_pred)\n",
      "\n",
      "        # Vote\n",
      "        y_train_pred = y_train_p.mean(axis=0)\n",
      "        y_train_pred[y_train_pred > 0.5] = 1\n",
      "        y_train_pred[y_train_pred <= 0.5] = 0\n",
      "        \n",
      "        y_test_pred = y_test_p.mean(axis=0)\n",
      "        y_test_pred[y_test_pred > 0.5] = 1\n",
      "        y_test_pred[y_test_pred <= 0.5] = 0\n",
      "        \n",
      "        train_res.append(accuracy_score(y_train, y_train_pred))\n",
      "        test_res.append(accuracy_score(y_test, y_test_pred))\n",
      "\n",
      "    print(np.mean(train_res), np.mean(test_res)"
     ],
     "language": "python",
     "metadata": {},
     "outputs": [],
     "prompt_number": 14
    },
    {
     "cell_type": "code",
     "collapsed": false,
     "input": [
      "clfs = [ DecisionTreeClassifier(),\n",
      "         GradientBoostingClassifier(),\n",
      "         ExtraTreesClassifier(),\n",
      "         AdaBoostClassifier()\n",
      "         ]\n",
      "\n",
      "bagging(clfs)"
     ],
     "language": "python",
     "metadata": {},
     "outputs": [
      {
       "output_type": "stream",
       "stream": "stdout",
       "text": [
        "0.918385143571 0.841419816139 0.850635300811\n"
       ]
      }
     ],
     "prompt_number": 15
    },
    {
     "cell_type": "code",
     "collapsed": false,
     "input": [],
     "language": "python",
     "metadata": {},
     "outputs": []
    }
   ],
   "metadata": {}
  }
 ]
}