{
 "metadata": {
  "name": "",
  "signature": "sha256:4f1e166c55fd52033a33140569274934eea572089ca80870f06e841bda290b25"
 },
 "nbformat": 3,
 "nbformat_minor": 0,
 "worksheets": [
  {
   "cells": [
    {
     "cell_type": "heading",
     "level": 1,
     "metadata": {},
     "source": [
      "Titanic Tutorial"
     ]
    },
    {
     "cell_type": "code",
     "collapsed": false,
     "input": [
      "%matplotlib inline\n",
      "import matplotlib.pyplot as plt\n",
      "import pandas as pd\n",
      "import numpy as np"
     ],
     "language": "python",
     "metadata": {},
     "outputs": [],
     "prompt_number": 1
    },
    {
     "cell_type": "code",
     "collapsed": false,
     "input": [
      "df = pd.read_csv('data/train.csv')\n",
      "print df.head()"
     ],
     "language": "python",
     "metadata": {},
     "outputs": [
      {
       "output_type": "stream",
       "stream": "stdout",
       "text": [
        "   PassengerId  Survived  Pclass  \\\n",
        "0            1         0       3   \n",
        "1            2         1       1   \n",
        "2            3         1       3   \n",
        "3            4         1       1   \n",
        "4            5         0       3   \n",
        "\n",
        "                                                Name     Sex  Age  SibSp  \\\n",
        "0                            Braund, Mr. Owen Harris    male   22      1   \n",
        "1  Cumings, Mrs. John Bradley (Florence Briggs Th...  female   38      1   \n",
        "2                             Heikkinen, Miss. Laina  female   26      0   \n",
        "3       Futrelle, Mrs. Jacques Heath (Lily May Peel)  female   35      1   \n",
        "4                           Allen, Mr. William Henry    male   35      0   \n",
        "\n",
        "   Parch            Ticket     Fare Cabin Embarked  \n",
        "0      0         A/5 21171   7.2500   NaN        S  \n",
        "1      0          PC 17599  71.2833   C85        C  \n",
        "2      0  STON/O2. 3101282   7.9250   NaN        S  \n",
        "3      0            113803  53.1000  C123        S  \n",
        "4      0            373450   8.0500   NaN        S  \n"
       ]
      }
     ],
     "prompt_number": 3
    },
    {
     "cell_type": "heading",
     "level": 2,
     "metadata": {},
     "source": [
      "How many survived?"
     ]
    },
    {
     "cell_type": "code",
     "collapsed": false,
     "input": [],
     "language": "python",
     "metadata": {},
     "outputs": [],
     "prompt_number": 11
    },
    {
     "cell_type": "markdown",
     "metadata": {},
     "source": [
      "Not very likely that anyone survives."
     ]
    },
    {
     "cell_type": "heading",
     "level": 2,
     "metadata": {},
     "source": [
      "Model 1: No Survivors"
     ]
    },
    {
     "cell_type": "markdown",
     "metadata": {},
     "source": [
      "What if we guess that there are zero survivors?\n",
      "\n",
      "What is the accuracy of our prediction?"
     ]
    },
    {
     "cell_type": "code",
     "collapsed": false,
     "input": [
      "from sklearn.metrics import accuracy_score\n",
      "\n",
      "def evaluate_model(A, B):\n",
      "    y = list(A)\n",
      "    y_pred = list(B)\n",
      "    print 'model accuracy {0:0.2f}'.format(accuracy_score(y, y_pred))\n",
      "\n",
      "y_pred = np.zeros(df.shape[0])\n",
      "evaluate_model(y, y_pred)"
     ],
     "language": "python",
     "metadata": {},
     "outputs": [
      {
       "output_type": "stream",
       "stream": "stdout",
       "text": [
        "model accuracy 0.62\n"
       ]
      }
     ],
     "prompt_number": 11
    },
    {
     "cell_type": "markdown",
     "metadata": {},
     "source": [
      "Let's look at gender to make our model better?"
     ]
    },
    {
     "cell_type": "code",
     "collapsed": false,
     "input": [
      "df.groupby(['Sex','Survived'])['PassengerId'].aggregate('count')"
     ],
     "language": "python",
     "metadata": {},
     "outputs": [
      {
       "metadata": {},
       "output_type": "pyout",
       "prompt_number": 8,
       "text": [
        "Sex     Survived\n",
        "female  0            81\n",
        "        1           233\n",
        "male    0           468\n",
        "        1           109\n",
        "Name: PassengerId, dtype: int64"
       ]
      }
     ],
     "prompt_number": 8
    },
    {
     "cell_type": "markdown",
     "metadata": {},
     "source": [
      "We are looking at the total number survived (`group['Survived'].sum()`) divided by the total, per gender."
     ]
    },
    {
     "cell_type": "code",
     "collapsed": false,
     "input": [
      "def percent(group):\n",
      "    return group['Survived'].sum()/float(group['Survived'].count())*100\n",
      "\n",
      "df.groupby(['Sex']).apply(percent)"
     ],
     "language": "python",
     "metadata": {},
     "outputs": [
      {
       "metadata": {},
       "output_type": "pyout",
       "prompt_number": 14,
       "text": [
        "Sex\n",
        "female    74.203822\n",
        "male      18.890815\n",
        "dtype: float64"
       ]
      }
     ],
     "prompt_number": 14
    },
    {
     "cell_type": "heading",
     "level": 2,
     "metadata": {},
     "source": [
      "Model 2: Gender Model"
     ]
    },
    {
     "cell_type": "markdown",
     "metadata": {},
     "source": [
      "Gender is a good indication of survival."
     ]
    },
    {
     "cell_type": "code",
     "collapsed": false,
     "input": [
      "index = df['Sex'] == 'female'\n",
      "y_pred[index.values] = 1.0"
     ],
     "language": "python",
     "metadata": {},
     "outputs": [],
     "prompt_number": 15
    },
    {
     "cell_type": "code",
     "collapsed": false,
     "input": [
      "evaluate_model(y, y_pred)"
     ],
     "language": "python",
     "metadata": {},
     "outputs": [
      {
       "output_type": "stream",
       "stream": "stdout",
       "text": [
        "model accuracy 0.79\n"
       ]
      }
     ],
     "prompt_number": 16
    },
    {
     "cell_type": "heading",
     "level": 3,
     "metadata": {},
     "source": [
      "Other variables?"
     ]
    },
    {
     "cell_type": "markdown",
     "metadata": {},
     "source": [
      "What about `Pclass`?"
     ]
    },
    {
     "cell_type": "code",
     "collapsed": false,
     "input": [
      "df.groupby(['Pclass','Sex']).apply(percent)"
     ],
     "language": "python",
     "metadata": {},
     "outputs": [
      {
       "metadata": {},
       "output_type": "pyout",
       "prompt_number": 17,
       "text": [
        "Pclass  Sex   \n",
        "1       female    96.808511\n",
        "        male      36.885246\n",
        "2       female    92.105263\n",
        "        male      15.740741\n",
        "3       female    50.000000\n",
        "        male      13.544669\n",
        "dtype: float64"
       ]
      }
     ],
     "prompt_number": 17
    },
    {
     "cell_type": "heading",
     "level": 2,
     "metadata": {},
     "source": [
      "Model 3: `Pclass` and `Gender`"
     ]
    },
    {
     "cell_type": "code",
     "collapsed": false,
     "input": [
      "index = df['Sex'] == 'female'\n",
      "index = index & ((df['Pclass'] == 1) | (df['Pclass'] == 2))\n",
      "y_pred = np.zeros(df.shape[0])\n",
      "y_pred[index.values] = 1.0\n",
      "\n",
      "evaluate_model(y, y_pred)"
     ],
     "language": "python",
     "metadata": {},
     "outputs": [
      {
       "output_type": "stream",
       "stream": "stdout",
       "text": [
        "model accuracy 0.79\n"
       ]
      }
     ],
     "prompt_number": 18
    },
    {
     "cell_type": "markdown",
     "metadata": {},
     "source": [
      "Doesn't really help because we miss on the 50% of females that survive in pclass 3."
     ]
    },
    {
     "cell_type": "code",
     "collapsed": false,
     "input": [
      "df['Fare'].hist(bins=50)\n",
      "plt.show()"
     ],
     "language": "python",
     "metadata": {},
     "outputs": [
      {
       "metadata": {},
       "output_type": "display_data",
       "png": "[encoded data removed]",
       "text": [
        "<matplotlib.figure.Figure at 0x10915cf90>"
       ]
      }
     ],
     "prompt_number": 19
    },
    {
     "cell_type": "code",
     "collapsed": false,
     "input": [
      "df['cut_fare'] = pd.cut(df['Fare'].values, \n",
      "       bins=[df['Fare'].min(),10,20,30,40,50,df['Fare'].max()], \n",
      "       retbins=False, \n",
      "       labels=False)"
     ],
     "language": "python",
     "metadata": {},
     "outputs": [],
     "prompt_number": 20
    },
    {
     "cell_type": "code",
     "collapsed": false,
     "input": [
      "df['cut_fare'].head()"
     ],
     "language": "python",
     "metadata": {},
     "outputs": [
      {
       "metadata": {},
       "output_type": "pyout",
       "prompt_number": 23,
       "text": [
        "0    0\n",
        "1    5\n",
        "2    0\n",
        "3    5\n",
        "4    0\n",
        "Name: cut_fare, dtype: float64"
       ]
      }
     ],
     "prompt_number": 23
    },
    {
     "cell_type": "code",
     "collapsed": false,
     "input": [
      "list(set(df['cut_fare'].dropna().values))"
     ],
     "language": "python",
     "metadata": {},
     "outputs": [
      {
       "metadata": {},
       "output_type": "pyout",
       "prompt_number": 25,
       "text": [
        "[0.0, 1.0, 2.0, 3.0, 4.0, 5.0]"
       ]
      }
     ],
     "prompt_number": 25
    },
    {
     "cell_type": "code",
     "collapsed": false,
     "input": [
      "df.groupby(['Pclass','cut_fare','Sex']).apply(percent)"
     ],
     "language": "python",
     "metadata": {},
     "outputs": [
      {
       "metadata": {},
       "output_type": "pyout",
       "prompt_number": 27,
       "text": [
        "Pclass  cut_fare  Sex   \n",
        "1       0         male        0.000000\n",
        "        2         female     85.714286\n",
        "                  male       44.117647\n",
        "        3         female    100.000000\n",
        "                  male       40.000000\n",
        "        4         female    100.000000\n",
        "                  male        0.000000\n",
        "        5         female     97.560976\n",
        "                  male       38.596491\n",
        "2       1         female     91.428571\n",
        "                  male       15.873016\n",
        "        2         female     90.322581\n",
        "                  male       16.000000\n",
        "        3         female    100.000000\n",
        "                  male       37.500000\n",
        "        4         female    100.000000\n",
        "                  male        0.000000\n",
        "        5         female    100.000000\n",
        "                  male        0.000000\n",
        "3       0         female     59.375000\n",
        "                  male       10.937500\n",
        "        1         female     58.139535\n",
        "                  male       23.684211\n",
        "        2         female     33.333333\n",
        "                  male       12.500000\n",
        "        3         female     18.181818\n",
        "                  male       10.000000\n",
        "        4         female      0.000000\n",
        "                  male        0.000000\n",
        "        5         female      0.000000\n",
        "                  male       45.454545\n",
        "dtype: float64"
       ]
      }
     ],
     "prompt_number": 27
    },
    {
     "cell_type": "markdown",
     "metadata": {},
     "source": [
      "For `Pclass` of `3`, females that paid more than fare 0 or 1 had a low probability of success."
     ]
    },
    {
     "cell_type": "heading",
     "level": 2,
     "metadata": {},
     "source": [
      "Model 4"
     ]
    },
    {
     "cell_type": "code",
     "collapsed": false,
     "input": [
      "y_pred = np.zeros(df.shape[0])\n",
      "index = df['Sex'] == 'female'\n",
      "y_pred[index.values] = 1.0\n",
      "\n",
      "index = index & ((df['cut_fare'] > 1) & (df['Pclass'] == 3))\n",
      "y_pred[index.values] = 0.0\n",
      "\n",
      "evaluate_model(y, y_pred)"
     ],
     "language": "python",
     "metadata": {},
     "outputs": [
      {
       "output_type": "stream",
       "stream": "stdout",
       "text": [
        "model accuracy 0.81\n"
       ]
      }
     ],
     "prompt_number": 28
    },
    {
     "cell_type": "heading",
     "level": 2,
     "metadata": {},
     "source": [
      "Can we automate this?"
     ]
    },
    {
     "cell_type": "code",
     "collapsed": false,
     "input": [
      "from sklearn.cross_validation import StratifiedKFold\n",
      "from sklearn import preprocessing\n",
      "\n",
      "def cross_validate(clf):\n",
      "     \n",
      "    test_res = []\n",
      "    train_res = []\n",
      "    area_res = []\n",
      "    \n",
      "    skf = StratifiedKFold(y, 5)\n",
      "    for train, test in skf:\n",
      "        X_train = X[train]\n",
      "        X_test = X[test]\n",
      "        y_train = list(y[train])\n",
      "        y_test = list(y[test])\n",
      "\n",
      "        clf.fit(X_train, y_train)\n",
      "        y_train_pred = list(clf.predict(X_train))\n",
      "        y_test_pred = list(clf.predict(X_test))\n",
      "\n",
      "        train_res.append(accuracy_score(y_train, y_train_pred))\n",
      "        test_res.append(accuracy_score(y_test, y_test_pred))\n",
      "       \n",
      "    \n",
      "    print np.mean(train_res), np.mean(test_res)"
     ],
     "language": "python",
     "metadata": {},
     "outputs": [],
     "prompt_number": 33
    },
    {
     "cell_type": "code",
     "collapsed": false,
     "input": [
      "def get_simple():\n",
      "    tmp =  df[['Survived', 'Sex', 'Pclass', 'Fare']] \n",
      "\n",
      "    tmp.dropna(axis=0, inplace=True)\n",
      "    Xt = tmp.as_matrix()\n",
      "    y = Xt[:,0].copy()\n",
      "    X = Xt[:,1:].copy()\n",
      "\n",
      "    le = preprocessing.LabelEncoder()\n",
      "\n",
      "    # Convert Sex and pclass to labels\n",
      "    X[:,0] = le.fit(X[:,0]).transform(X[:,0])\n",
      "    X[:,1] = le.fit(X[:,1]).transform(X[:,1])\n",
      "\n",
      "    # Create binary values\n",
      "    enc = preprocessing.OneHotEncoder()\n",
      "    Xn = enc.fit(X[:,:2]).transform(X[:,:2]).toarray()\n",
      "    tmp = np.c_[X[:,2:], Xn]\n",
      "    \n",
      "    return tmp, y\n",
      "\n",
      "X, y = get_simple()"
     ],
     "language": "python",
     "metadata": {},
     "outputs": [],
     "prompt_number": 34
    },
    {
     "cell_type": "code",
     "collapsed": false,
     "input": [
      "from sklearn.svm import SVC\n",
      "from sklearn.neighbors import KNeighborsClassifier\n",
      "from sklearn.tree import DecisionTreeClassifier\n",
      "from sklearn.naive_bayes import GaussianNB\n",
      "from sklearn.ensemble import RandomForestClassifier\n",
      "\n",
      "clfs = [ DecisionTreeClassifier(),\n",
      "         RandomForestClassifier()]"
     ],
     "language": "python",
     "metadata": {},
     "outputs": [],
     "prompt_number": 35
    },
    {
     "cell_type": "code",
     "collapsed": false,
     "input": [
      "X, y = get_simple()\n",
      "results = map(cross_validate, clfs)"
     ],
     "language": "python",
     "metadata": {},
     "outputs": [
      {
       "output_type": "stream",
       "stream": "stdout",
       "text": [
        "0.908809508801 0.815956311594\n",
        "0.901233512457"
       ]
      },
      {
       "output_type": "stream",
       "stream": "stdout",
       "text": [
        " 0.817086184169\n"
       ]
      }
     ],
     "prompt_number": 36
    },
    {
     "cell_type": "code",
     "collapsed": false,
     "input": [
      "clfs = [ SVC(),\n",
      "         KNeighborsClassifier(), \n",
      "         GaussianNB()]\n",
      "\n",
      "results = map(cross_validate, clfs)"
     ],
     "language": "python",
     "metadata": {},
     "outputs": [
      {
       "output_type": "stream",
       "stream": "stdout",
       "text": [
        "0.827723497802 0.77327851359\n",
        "0.833048363459"
       ]
      },
      {
       "output_type": "stream",
       "stream": "stdout",
       "text": [
        " 0.777848220451\n",
        "0.780584490285"
       ]
      },
      {
       "output_type": "stream",
       "stream": "stdout",
       "text": [
        " 0.775538258741\n"
       ]
      }
     ],
     "prompt_number": 37
    },
    {
     "cell_type": "code",
     "collapsed": false,
     "input": [
      "clfs = []\n",
      "for i in range(1,30,2):\n",
      "    clfs.append( DecisionTreeClassifier(max_depth=i) )\n",
      "\n",
      "results = map(cross_validate, clfs)"
     ],
     "language": "python",
     "metadata": {},
     "outputs": [
      {
       "output_type": "stream",
       "stream": "stdout",
       "text": [
        "0.786756386214 0.786755382587\n",
        "0.812008131491 0.803577929822\n",
        "0.833894211828"
       ]
      },
      {
       "output_type": "stream",
       "stream": "stdout",
       "text": [
        " 0.799102379009\n",
        "0.852973667208"
       ]
      },
      {
       "output_type": "stream",
       "stream": "stdout",
       "text": [
        " 0.808078588915\n",
        "0.87485895961"
       ]
      },
      {
       "output_type": "stream",
       "stream": "stdout",
       "text": [
        " 0.805869060323\n",
        "0.887205115275"
       ]
      },
      {
       "output_type": "stream",
       "stream": "stdout",
       "text": [
        " 0.81706735296\n",
        "0.896463747104"
       ]
      },
      {
       "output_type": "stream",
       "stream": "stdout",
       "text": [
        " 0.818190948465\n",
        "0.902636430969"
       ]
      },
      {
       "output_type": "stream",
       "stream": "stdout",
       "text": [
        " 0.814826439018\n",
        "0.907406984257"
       ]
      },
      {
       "output_type": "stream",
       "stream": "stdout",
       "text": [
        " 0.814838993158\n",
        "0.908248498984"
       ]
      },
      {
       "output_type": "stream",
       "stream": "stdout",
       "text": [
        " 0.81707363003\n",
        "0.908529003892"
       ]
      },
      {
       "output_type": "stream",
       "stream": "stdout",
       "text": [
        " 0.81707363003\n",
        "0.908809508801"
       ]
      },
      {
       "output_type": "stream",
       "stream": "stdout",
       "text": [
        " 0.815950034524\n",
        "0.908809508801"
       ]
      },
      {
       "output_type": "stream",
       "stream": "stdout",
       "text": [
        " 0.815950034524\n",
        "0.908809508801"
       ]
      },
      {
       "output_type": "stream",
       "stream": "stdout",
       "text": [
        " 0.81707363003\n",
        "0.908809508801"
       ]
      },
      {
       "output_type": "stream",
       "stream": "stdout",
       "text": [
        " 0.81707363003\n"
       ]
      }
     ],
     "prompt_number": 38
    },
    {
     "cell_type": "heading",
     "level": 2,
     "metadata": {},
     "source": [
      "Can we do better?"
     ]
    },
    {
     "cell_type": "code",
     "collapsed": false,
     "input": [
      "def get_data():\n",
      "    \n",
      "    tmp =  df[['Survived', 'Sex', 'Pclass', 'Embarked', 'SibSp', 'Parch', 'Fare']] #Age doesn't help\n",
      "    tmp =  df[['Survived', 'Sex', 'Pclass', 'Embarked', 'Fare']] #Age doesn't help\n",
      "    \n",
      "    tmp.dropna(axis=0, inplace=True)\n",
      "    Xt = tmp.as_matrix()\n",
      "    y = Xt[:,0].copy()\n",
      "    X = Xt[:,1:].copy()\n",
      "\n",
      "    le = preprocessing.LabelEncoder()\n",
      "\n",
      "    # Convert Sex and pclass to labels\n",
      "    X[:,0] = le.fit(X[:,0]).transform(X[:,0])\n",
      "    X[:,1] = le.fit(X[:,1]).transform(X[:,1])\n",
      "    X[:,2] = le.fit(X[:,2]).transform(X[:,2])\n",
      "    \n",
      "    # Create binary values\n",
      "    enc = preprocessing.OneHotEncoder()\n",
      "    Xn = enc.fit(X[:,:3]).transform(X[:,:3]).toarray()\n",
      "    tmp = np.c_[X[:,3:], Xn]\n",
      "    \n",
      "    return tmp, y"
     ],
     "language": "python",
     "metadata": {},
     "outputs": [],
     "prompt_number": 39
    },
    {
     "cell_type": "code",
     "collapsed": false,
     "input": [
      "clfs = [ DecisionTreeClassifier(),\n",
      "         RandomForestClassifier()]\n",
      "X, y = get_data()\n",
      "results = map(cross_validate, clfs)"
     ],
     "language": "python",
     "metadata": {},
     "outputs": [
      {
       "output_type": "stream",
       "stream": "stdout",
       "text": [
        "0.912543655873 0.812175458643\n",
        "0.902138940249"
       ]
      },
      {
       "output_type": "stream",
       "stream": "stdout",
       "text": [
        " 0.803167650606\n"
       ]
      }
     ],
     "prompt_number": 40
    },
    {
     "cell_type": "heading",
     "level": 3,
     "metadata": {},
     "source": [
      "Learning Curve"
     ]
    },
    {
     "cell_type": "code",
     "collapsed": false,
     "input": [
      "from sklearn.cross_validation import StratifiedShuffleSplit \n",
      "\n",
      "def learning_curve(clf, X, y):\n",
      "    data = dict()\n",
      "    data['training_error'] = []\n",
      "    data['test_error'] = []\n",
      "    data['n_range'] = []\n",
      "    \n",
      "    N_range = map(np.round, np.linspace(10,800,40).astype('int'))\n",
      "\n",
      "    for N in N_range:\n",
      "        train_mean = 0\n",
      "        test_mean = 0\n",
      "        for i in range(10):\n",
      "            train_index, test_index = next(iter(StratifiedShuffleSplit(y, 1, test_size=0.2)))\n",
      "            X_train, X_test = X[train_index], X[test_index]\n",
      "            y_train, y_test = y[train_index], y[test_index]\n",
      "            XN = X_train[:N]\n",
      "            yN = y_train[:N]    \n",
      "            clf.fit(XN, yN)\n",
      "            y_pred_train = clf.predict(XN)\n",
      "            y_pred_test = clf.predict(X_test)\n",
      "            train_mean += accuracy_score(list(y_test), list(y_pred_test))\n",
      "            test_mean += accuracy_score(list(yN), list(y_pred_train))\n",
      "        data['test_error'].append(train_mean/float(10))\n",
      "        data['training_error'].append(test_mean/float(10))\n",
      "        data['n_range'].append(N)\n",
      "\n",
      "    return data"
     ],
     "language": "python",
     "metadata": {},
     "outputs": [],
     "prompt_number": 41
    },
    {
     "cell_type": "code",
     "collapsed": false,
     "input": [
      "from functools import partial\n",
      "partial_learning_curve = partial(learning_curve, X=X, y=y)\n",
      "clf = DecisionTreeClassifier(max_depth=5000)\n",
      "data = partial_learning_curve(clf)"
     ],
     "language": "python",
     "metadata": {},
     "outputs": [],
     "prompt_number": 42
    },
    {
     "cell_type": "code",
     "collapsed": false,
     "input": [
      "def plot_learning_curve(data):\n",
      "    fig, ax = plt.subplots()\n",
      "\n",
      "    ax.plot(data['n_range'], data['test_error'], '-o', label='test')\n",
      "    ax.plot(data['n_range'], data['training_error'], '-o', label='training')\n",
      "    ax.set_ylim(0,1)\n",
      "    ax.set_xlabel('training size')\n",
      "    ax.set_ylabel('accuracy score')\n",
      "    ax.set_ylim(0,1.1)\n",
      "    ax.hlines(y=np.max(data['test_error']), xmin=0, xmax=np.max(data['n_range']), color='lightgrey')\n",
      "    ax.hlines(y=np.min(data['training_error']), xmin=0, xmax=np.max(data['n_range']), color='lightgrey')\n",
      "    fig.show()"
     ],
     "language": "python",
     "metadata": {},
     "outputs": [],
     "prompt_number": 43
    },
    {
     "cell_type": "code",
     "collapsed": false,
     "input": [
      "plot_learning_curve(data)"
     ],
     "language": "python",
     "metadata": {},
     "outputs": [
      {
       "metadata": {},
       "output_type": "display_data",
       "png": "[encoded data removed]",
       "text": [
        "<matplotlib.figure.Figure at 0x1091e0310>"
       ]
      }
     ],
     "prompt_number": 44
    },
    {
     "cell_type": "markdown",
     "metadata": {},
     "source": [
      "**High variance**: We don't have more data.  We could add more features to our feature set `X` to give the algorithm more complexity."
     ]
    },
    {
     "cell_type": "markdown",
     "metadata": {},
     "source": [
      "**Bias**\n",
      "Refers to the error in our prediction that is introduced by our choice of model.\n",
      "e.g. Linear models assume a linear relationship\n",
      "\n",
      "**Variance**\n",
      "The amount our prediction will change if we use a different training set.\n",
      "\n",
      "Good predictions\n",
      "- will simultaneously minimize bias and variance.\n",
      "- More flexible methods result in less bias.\n",
      "\n",
      "Trade-off?\n",
      "- Easy to find a low-bias method.\n",
      "    - KNeighborsRegressor(1) passes through every point.\n",
      "    - But... high variance when cross validated.\n",
      "    \n",
      "Easy to find a low-variance method.\n",
      "- A hoizontal line.\n",
      "- This has very high bias.\n",
      "\n",
      "Challange: find a method that minimizes both"
     ]
    },
    {
     "cell_type": "code",
     "collapsed": false,
     "input": [],
     "language": "python",
     "metadata": {},
     "outputs": []
    }
   ],
   "metadata": {}
  }
 ]
}